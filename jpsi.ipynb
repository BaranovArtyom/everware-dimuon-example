{
 "cells": [
  {
   "cell_type": "code",
   "execution_count": 4,
   "metadata": {
    "collapsed": false,
    "slideshow": {
     "slide_type": "skip"
    }
   },
   "outputs": [
    {
     "data": {
      "text/html": [
       "<style>\n",
       "@font-face {\n",
       "    font-family: \"Computer Modern\";\n",
       "    src: url('http://9dbb143991406a7c655e-aa5fcb0a5a4ec34cff238a2d56ca4144.r56.cf5.rackcdn.com/cmunss.otf');\n",
       "}\n",
       "@font-face {\n",
       "    font-family: \"Computer Modern\";\n",
       "    font-weight: bold;\n",
       "    src: url('http://9dbb143991406a7c655e-aa5fcb0a5a4ec34cff238a2d56ca4144.r56.cf5.rackcdn.com/cmunsx.otf');\n",
       "}\n",
       "@font-face {\n",
       "    font-family: \"Computer Modern\";\n",
       "    font-style: oblique;\n",
       "    src: url('http://9dbb143991406a7c655e-aa5fcb0a5a4ec34cff238a2d56ca4144.r56.cf5.rackcdn.com/cmunsi.otf');\n",
       "}\n",
       "@font-face {\n",
       "    font-family: \"Computer Modern\";\n",
       "    font-weight: bold;\n",
       "    font-style: oblique;\n",
       "    src: url('http://9dbb143991406a7c655e-aa5fcb0a5a4ec34cff238a2d56ca4144.r56.cf5.rackcdn.com/cmunso.otf');\n",
       "}\n",
       "div.cell {\n",
       "    width:1024px;\n",
       "    margin-left:auto !important;\n",
       "    margin-right:auto;\n",
       "}\n",
       "div.prompt {\n",
       "    display:none;\n",
       "}\n",
       "div.out_prompt_overlay {\n",
       "    display:none ! important;\n",
       "}\n",
       "div.output_subarea {\n",
       "    max-width:100% ! important;\n",
       "}\n",
       "div.output_subarea img {\n",
       "    margin-left:auto !important;\n",
       "    margin-right:auto !important;\n",
       "}\n",
       "h1 {\n",
       "    font-family: Helvetica, serif;\n",
       "}\n",
       "h4{\n",
       "    margin-top:12px;\n",
       "    margin-bottom: 3px;\n",
       "}\n",
       "div.text_cell_render{\n",
       "    font-family: Computer Modern, \"Helvetica Neue\", Arial, Helvetica, Geneva, sans-serif;\n",
       "    width:100%;\n",
       "    margin-left:auto;\n",
       "    margin-right:auto;\n",
       "}\n",
       ".text_cell_render h5 {\n",
       "    font-weight: 300;\n",
       "    font-size: 22pt;\n",
       "    color: #4057A1;\n",
       "    font-style: italic;\n",
       "    margin-bottom: .5em;\n",
       "    margin-top: 0.5em;\n",
       "    display: block;\n",
       "}\n",
       ".warning{\n",
       "    color: rgb( 240, 20, 20 );\n",
       "}\n",
       ".ui-wrapper {\n",
       "    margin-left: auto !important;\n",
       "    margin-right: auto !important;\n",
       "}\n",
       ".container.slides .celltoolbar, .container.slides .hide-in-slideshow {\n",
       "    display: None ! important;\n",
       "}\n",
       "</style>\n",
       "<script>\n",
       "MathJax.Hub.Config({\n",
       "                        TeX: {\n",
       "                           extensions: [\"AMSmath.js\"]\n",
       "                           },\n",
       "                tex2jax: {\n",
       "                    inlineMath: [ ['$','$'], [\"\\\\(\",\"\\\\)\"] ],\n",
       "                    displayMath: [ ['$$','$$'], [\"\\\\[\",\"\\\\]\"] ]\n",
       "                },\n",
       "                displayAlign: 'center', // Change this to 'center' to center equations.\n",
       "                \"HTML-CSS\": {\n",
       "                    styles: {'.MathJax_Display': {\"margin\": 4}}\n",
       "                }\n",
       "        });\n",
       "</script>\n"
      ],
      "text/plain": [
       "<IPython.core.display.HTML object>"
      ]
     },
     "execution_count": 4,
     "metadata": {},
     "output_type": "execute_result"
    }
   ],
   "source": [
    "# customize IPython's style\n",
    "from IPython.core.display import HTML, display_html\n",
    "def css_styling():\n",
    "    styles = open(\"css/custom.css\", \"r\").read() #or edit path to custom.css\n",
    "    return HTML(styles)\n",
    "css_styling()"
   ]
  },
  {
   "cell_type": "code",
   "execution_count": 21,
   "metadata": {
    "collapsed": false,
    "slideshow": {
     "slide_type": "skip"
    }
   },
   "outputs": [
    {
     "name": "stderr",
     "output_type": "stream",
     "text": [
      "INFO:rootpy.plotting.style:using ROOT style 'ATLAS'\n"
     ]
    }
   ],
   "source": [
    "# Required imports and setup\n",
    "import numpy as np\n",
    "from rootpy.plotting import Hist, Canvas, set_style\n",
    "from root_numpy import root2array, fill_hist\n",
    "set_style('ATLAS')"
   ]
  },
  {
   "cell_type": "markdown",
   "metadata": {
    "slideshow": {
     "slide_type": "slide"
    }
   },
   "source": [
    "# Measuring the J/psi mass\n",
    "\n",
    "### An Example Physics Analysis\n",
    "\n",
    "\n",
    "Noel Dawe"
   ]
  },
  {
   "cell_type": "code",
   "execution_count": 3,
   "metadata": {
    "collapsed": false,
    "slideshow": {
     "slide_type": "slide"
    }
   },
   "outputs": [
    {
     "data": {
      "text/html": [
       "<div id=\"d7b78d9513e2b57f\"></div>\n",
       "    <script type=\"text/javascript\">\n",
       "        $(function(){\n",
       "            var p = $(\"#d7b78d9513e2b57f\");\n",
       "            if (p.length==0) return;\n",
       "\n",
       "            while (!p.hasClass(\"cell\")) {\n",
       "                p=p.parent();\n",
       "\n",
       "                if (p.prop(\"tagName\") ==\"body\") return;\n",
       "            }\n",
       "            var cell = p;\n",
       "            cell.find(\".input\").addClass(\"hide-in-slideshow\")\n",
       "        });\n",
       "    </script>"
      ]
     },
     "metadata": {},
     "output_type": "display_data"
    },
    {
     "data": {
      "text/html": [
       "\n",
       "<center>\n",
       "<img src=\"images/feynman_Z_mumu.png\" width=\"80%\"/>\n",
       "</center>\n"
      ],
      "text/plain": [
       "<IPython.core.display.HTML object>"
      ]
     },
     "execution_count": 3,
     "metadata": {},
     "output_type": "execute_result"
    }
   ],
   "source": [
    "hide_code_in_slideshow()\n",
    "from IPython.display import HTML\n",
    "HTML(\"\"\"\n",
    "<center>\n",
    "<img src=\"images/feynman_Z_mumu.png\" width=\"80%\"/>\n",
    "</center>\n",
    "\"\"\")"
   ]
  },
  {
   "cell_type": "code",
   "execution_count": 25,
   "metadata": {
    "collapsed": true,
    "slideshow": {
     "slide_type": "slide"
    }
   },
   "outputs": [],
   "source": [
    "def get_masses(filename, treename='events'):\n",
    "    # Get array of squared mass values selecting opposite charge events\n",
    "    expr = '(e1 + e2)**2 - ((px1 + px2)^2 + (py1 + py2)^2 + (pz1 + pz2)^2)'\n",
    "    m2 = root2array(filename, treename=treename,\n",
    "                    branches=expr, selection='q1 * q2 == -1')\n",
    "    # Remove bad events\n",
    "    m2 = m2[m2 > 0]\n",
    "    # Return the masses\n",
    "    return np.sqrt(m2)"
   ]
  },
  {
   "cell_type": "code",
   "execution_count": 26,
   "metadata": {
    "collapsed": false,
    "slideshow": {
     "slide_type": "slide"
    }
   },
   "outputs": [],
   "source": [
    "def plot_hist(hist, logy=True, logx=True):\n",
    "    canvas = Canvas()\n",
    "    if logy:\n",
    "        canvas.SetLogy()\n",
    "    if logx:\n",
    "        canvas.SetLogx()\n",
    "    hist.xaxis.title = 'm_{#mu#mu} [GeV]'\n",
    "    hist.yaxis.title = 'Events'\n",
    "    hist.Draw('hist')\n",
    "    return canvas"
   ]
  },
  {
   "cell_type": "code",
   "execution_count": 27,
   "metadata": {
    "collapsed": false,
    "slideshow": {
     "slide_type": "slide"
    }
   },
   "outputs": [
    {
     "data": {
      "image/png": "[encoded data removed]",
      "text/plain": [
       "Canvas('Canvas_agPtLmW7Duwi29WB2d2Cr9')"
      ]
     },
     "execution_count": 27,
     "metadata": {},
     "output_type": "execute_result"
    }
   ],
   "source": [
    "masses = get_masses('events.root')\n",
    "mass_hist = Hist(1500, 0.5, 120)\n",
    "fill_hist(mass_hist, masses)\n",
    "plot_hist(mass_hist)"
   ]
  },
  {
   "cell_type": "code",
   "execution_count": 28,
   "metadata": {
    "collapsed": false,
    "slideshow": {
     "slide_type": "slide"
    }
   },
   "outputs": [
    {
     "data": {
      "image/png": "[encoded data removed]",
      "text/plain": [
       "Canvas('Canvas_KFHZH5AYgzx8kbRQB7rHqV')"
      ]
     },
     "execution_count": 28,
     "metadata": {},
     "output_type": "execute_result"
    }
   ],
   "source": [
    "mass_hist_zoomed = Hist(100, 2.8, 3.4)\n",
    "fill_hist(mass_hist_zoomed, masses)\n",
    "plot_hist(mass_hist_zoomed, logx=False)"
   ]
  },
  {
   "cell_type": "markdown",
   "metadata": {
    "slideshow": {
     "slide_type": "skip"
    }
   },
   "source": [
    "* These events were extracted from the CMS Mu Primary Dataset on the CERN Open Data Portal: http://opendata.cern.ch/record/14. \n",
    "* Thanks to http://openstack.cern.ch for providing a CernVM running SL5 where I could set up CMSSW 4.2.8 and to https://github.com/tpmccauley/dimuon-filter for generating the CSV from CMS AODs."
   ]
  }
 ],
 "metadata": {
  "celltoolbar": "Slideshow",
  "kernelspec": {
   "display_name": "Python 2",
   "language": "python",
   "name": "python2"
  },
  "language_info": {
   "codemirror_mode": {
    "name": "ipython",
    "version": 2
   },
   "file_extension": ".py",
   "mimetype": "text/x-python",
   "name": "python",
   "nbconvert_exporter": "python",
   "pygments_lexer": "ipython2",
   "version": "2.7.9"
  }
 },
 "nbformat": 4,
 "nbformat_minor": 0
}
