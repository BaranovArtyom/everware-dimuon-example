{
 "cells": [
  {
   "cell_type": "code",
   "execution_count": 1,
   "metadata": {
    "collapsed": false,
    "slideshow": {
     "slide_type": "skip"
    }
   },
   "outputs": [
    {
     "data": {
      "text/html": [
       "<style>\n",
       "@font-face {\n",
       "    font-family: \"Computer Modern\";\n",
       "    src: url('http://9dbb143991406a7c655e-aa5fcb0a5a4ec34cff238a2d56ca4144.r56.cf5.rackcdn.com/cmunss.otf');\n",
       "}\n",
       "@font-face {\n",
       "    font-family: \"Computer Modern\";\n",
       "    font-weight: bold;\n",
       "    src: url('http://9dbb143991406a7c655e-aa5fcb0a5a4ec34cff238a2d56ca4144.r56.cf5.rackcdn.com/cmunsx.otf');\n",
       "}\n",
       "@font-face {\n",
       "    font-family: \"Computer Modern\";\n",
       "    font-style: oblique;\n",
       "    src: url('http://9dbb143991406a7c655e-aa5fcb0a5a4ec34cff238a2d56ca4144.r56.cf5.rackcdn.com/cmunsi.otf');\n",
       "}\n",
       "@font-face {\n",
       "    font-family: \"Computer Modern\";\n",
       "    font-weight: bold;\n",
       "    font-style: oblique;\n",
       "    src: url('http://9dbb143991406a7c655e-aa5fcb0a5a4ec34cff238a2d56ca4144.r56.cf5.rackcdn.com/cmunso.otf');\n",
       "}\n",
       "div.cell {\n",
       "    width:1024px;\n",
       "    margin-left:auto !important;\n",
       "    margin-right:auto;\n",
       "}\n",
       "div.prompt {\n",
       "    display:none;\n",
       "}\n",
       "div.out_prompt_overlay {\n",
       "    display:none ! important;\n",
       "}\n",
       "div.output_subarea {\n",
       "    max-width:100% ! important;\n",
       "}\n",
       "div.output_subarea img {\n",
       "    margin-left:auto !important;\n",
       "    margin-right:auto !important;\n",
       "}\n",
       "h1 {\n",
       "    font-family: Helvetica, serif;\n",
       "}\n",
       "h4{\n",
       "    margin-top:12px;\n",
       "    margin-bottom: 3px;\n",
       "}\n",
       "div.text_cell_render{\n",
       "    font-family: Computer Modern, \"Helvetica Neue\", Arial, Helvetica, Geneva, sans-serif;\n",
       "    width:100%;\n",
       "    margin-left:auto;\n",
       "    margin-right:auto;\n",
       "}\n",
       ".text_cell_render h5 {\n",
       "    font-weight: 300;\n",
       "    font-size: 22pt;\n",
       "    color: #4057A1;\n",
       "    font-style: italic;\n",
       "    margin-bottom: .5em;\n",
       "    margin-top: 0.5em;\n",
       "    display: block;\n",
       "}\n",
       ".warning{\n",
       "    color: rgb( 240, 20, 20 );\n",
       "}\n",
       ".ui-wrapper {\n",
       "    margin-left: auto !important;\n",
       "    margin-right: auto !important;\n",
       "}\n",
       ".container.slides .celltoolbar, .container.slides .hide-in-slideshow {\n",
       "    display: None ! important;\n",
       "}\n",
       "</style>\n",
       "<script>\n",
       "MathJax.Hub.Config({\n",
       "                        TeX: {\n",
       "                           extensions: [\"AMSmath.js\"]\n",
       "                           },\n",
       "                tex2jax: {\n",
       "                    inlineMath: [ ['$','$'], [\"\\\\(\",\"\\\\)\"] ],\n",
       "                    displayMath: [ ['$$','$$'], [\"\\\\[\",\"\\\\]\"] ]\n",
       "                },\n",
       "                displayAlign: 'center', // Change this to 'center' to center equations.\n",
       "                \"HTML-CSS\": {\n",
       "                    styles: {'.MathJax_Display': {\"margin\": 4}}\n",
       "                }\n",
       "        });\n",
       "</script>\n"
      ],
      "text/plain": [
       "<IPython.core.display.HTML object>"
      ]
     },
     "execution_count": 1,
     "metadata": {},
     "output_type": "execute_result"
    }
   ],
   "source": [
    "# customize IPython's style\n",
    "from IPython.core.display import HTML, display_html\n",
    "def css_styling():\n",
    "    styles = open(\"css/custom.css\", \"r\").read() #or edit path to custom.css\n",
    "    return HTML(styles)\n",
    "css_styling()"
   ]
  },
  {
   "cell_type": "code",
   "execution_count": 141,
   "metadata": {
    "collapsed": false,
    "slideshow": {
     "slide_type": "skip"
    }
   },
   "outputs": [
    {
     "name": "stderr",
     "output_type": "stream",
     "text": [
      "INFO:rootpy.plotting.style:using ROOT style 'ATLAS'\n"
     ]
    }
   ],
   "source": [
    "# Required imports and setup\n",
    "import os\n",
    "import numpy as np\n",
    "from rootpy.plotting import Hist, Canvas, set_style, get_style\n",
    "from rootpy import asrootpy\n",
    "from root_numpy import root2array, fill_hist\n",
    "style = get_style('ATLAS')\n",
    "style.SetCanvasDefW(900)\n",
    "style.SetCanvasDefH(600)\n",
    "set_style('ATLAS')\n",
    "from ROOT import (RooFit, RooRealVar, RooDataHist, RooArgList,\n",
    "                  RooBreitWigner, RooVoigtian, RooAddPdf, RooPolynomial,\n",
    "                  TLatex)"
   ]
  },
  {
   "cell_type": "markdown",
   "metadata": {
    "slideshow": {
     "slide_type": "slide"
    }
   },
   "source": [
    "# Measuring the J/psi mass"
   ]
  },
  {
   "cell_type": "markdown",
   "metadata": {
    "slideshow": {
     "slide_type": "slide"
    }
   },
   "source": [
    "# Get an array of dimuon masses"
   ]
  },
  {
   "cell_type": "code",
   "execution_count": 39,
   "metadata": {
    "collapsed": true,
    "slideshow": {
     "slide_type": "fragment"
    }
   },
   "outputs": [],
   "source": [
    "def get_masses(filename, treename='events'):\n",
    "    # Get array of squared mass values selecting opposite charge events\n",
    "    expr = '(e1 + e2)**2 - ((px1 + px2)^2 + (py1 + py2)^2 + (pz1 + pz2)^2)'\n",
    "    m2 = root2array(filename, treename=treename,\n",
    "                    branches=expr, selection='q1 * q2 == -1')\n",
    "    # Remove bad events\n",
    "    m2 = m2[m2 > 0]\n",
    "    # Return the masses\n",
    "    return np.sqrt(m2)"
   ]
  },
  {
   "cell_type": "markdown",
   "metadata": {
    "slideshow": {
     "slide_type": "slide"
    }
   },
   "source": [
    "# A function to plot the mass values"
   ]
  },
  {
   "cell_type": "code",
   "execution_count": 40,
   "metadata": {
    "collapsed": false,
    "slideshow": {
     "slide_type": "fragment"
    }
   },
   "outputs": [],
   "source": [
    "def plot_hist(hist, logy=True, logx=True):\n",
    "    canvas = Canvas()\n",
    "    if logy:\n",
    "        canvas.SetLogy()\n",
    "    if logx:\n",
    "        canvas.SetLogx()\n",
    "    hist.xaxis.title = 'm_{#mu#mu} [GeV]'\n",
    "    hist.yaxis.title = 'Events'\n",
    "    hist.Draw('hist')\n",
    "    return canvas"
   ]
  },
  {
   "cell_type": "markdown",
   "metadata": {
    "slideshow": {
     "slide_type": "slide"
    }
   },
   "source": [
    " # Fetch the data"
   ]
  },
  {
   "cell_type": "code",
   "execution_count": 41,
   "metadata": {
    "collapsed": false,
    "slideshow": {
     "slide_type": "fragment"
    }
   },
   "outputs": [],
   "source": [
    "if not os.path.exists('events.root'):\n",
    "    !curl https://cernbox.cern.ch/index.php/s/ZE45HERahm7DeZ6/download -o events.root"
   ]
  },
  {
   "cell_type": "markdown",
   "metadata": {
    "slideshow": {
     "slide_type": "slide"
    }
   },
   "source": [
    "# Plot the dimuon mass spectrum"
   ]
  },
  {
   "cell_type": "code",
   "execution_count": 42,
   "metadata": {
    "collapsed": false,
    "slideshow": {
     "slide_type": "fragment"
    }
   },
   "outputs": [
    {
     "data": {
      "image/png": "[encoded data removed]",
      "text/plain": [
       "Canvas('Canvas_7VtEP9NLH9Zxh2sGcYa7mA')"
      ]
     },
     "execution_count": 42,
     "metadata": {},
     "output_type": "execute_result"
    }
   ],
   "source": [
    "masses = get_masses('events.root')\n",
    "mass_hist = Hist(1500, 0.5, 120)\n",
    "fill_hist(mass_hist, masses)\n",
    "plot_hist(mass_hist)"
   ]
  },
  {
   "cell_type": "markdown",
   "metadata": {
    "slideshow": {
     "slide_type": "slide"
    }
   },
   "source": [
    "# Zoom in on the J/psi meson"
   ]
  },
  {
   "cell_type": "code",
   "execution_count": 44,
   "metadata": {
    "collapsed": false,
    "slideshow": {
     "slide_type": "fragment"
    }
   },
   "outputs": [
    {
     "data": {
      "image/png": "[encoded data removed]",
      "text/plain": [
       "Canvas('Canvas_wAyKy9K4TrbdDcG2LuViWX')"
      ]
     },
     "execution_count": 44,
     "metadata": {},
     "output_type": "execute_result"
    }
   ],
   "source": [
    "mass_hist_zoomed = Hist(100, 2.8, 3.4, drawstyle='EP')\n",
    "fill_hist(mass_hist_zoomed, masses)\n",
    "plot_hist(mass_hist_zoomed, logx=False, logy=False)"
   ]
  },
  {
   "cell_type": "code",
   "execution_count": 142,
   "metadata": {
    "collapsed": true,
    "slideshow": {
     "slide_type": "slide"
    }
   },
   "outputs": [],
   "source": [
    "def fit(hist):\n",
    "    hmin = hist.GetXaxis().GetXmin()\n",
    "    hmax = hist.GetXaxis().GetXmax()\n",
    "\n",
    "    # Declare observable x\n",
    "    x = RooRealVar(\"x\",\"x\",hmin,hmax)\n",
    "    dh = RooDataHist(\"dh\",\"dh\",RooArgList(x),RooFit.Import(hist))\n",
    "\n",
    "    frame = x.frame(RooFit.Title(\"Z mass\"))\n",
    "    # this will show histogram data points on canvas \n",
    "    dh.plotOn(frame,RooFit.MarkerColor(2),RooFit.MarkerSize(0.9),RooFit.MarkerStyle(21))\n",
    "\n",
    "    # Signal PDF\n",
    "    mean = RooRealVar(\"mean\",\"mean\",3.1, 0, 5)\n",
    "    width = RooRealVar(\"width\",\"width\",1, 0, 100)\n",
    "    sigma = RooRealVar(\"sigma\",\"sigma\",5, 0, 100)\n",
    "    voigt = RooVoigtian(\"voigt\",\"voigt\",x,mean,width,sigma)\n",
    "    \n",
    "    # Background PDF\n",
    "    pol0 = RooPolynomial(\"pol0\",\"pol0\",x,RooArgList())\n",
    "    \n",
    "    # Combined model\n",
    "    jpsi_yield = RooRealVar(\"jpsi_yield\",\"yield of j/psi\",0.9,0,1)\n",
    "    model = RooAddPdf(\"model\",\"pol0+gauss\",RooArgList(voigt,pol0),RooArgList(jpsi_yield))\n",
    "\n",
    "    result = asrootpy(model.fitTo(dh, RooFit.Save(True)))\n",
    "    mass = result.final_params['mean'].value\n",
    "    bin1 = hist.FindFirstBinAbove(hist.GetMaximum()/2)\n",
    "    bin2 = hist.FindLastBinAbove(hist.GetMaximum()/2)\n",
    "    hwhm = (hist.GetBinCenter(bin2) - hist.GetBinCenter(bin1)) / 2\n",
    "    # this will show fit overlay on canvas\n",
    "    model.plotOn(frame,RooFit.LineColor(4))\n",
    "\n",
    "    # Draw all frames on a canvas\n",
    "    canvas = Canvas()\n",
    "    frame.GetXaxis().SetTitle(\"m_{#mu#mu} [GeV]\")\n",
    "    frame.GetXaxis().SetTitleOffset(1.2)\n",
    "    frame.Draw()\n",
    "    \n",
    "    # Draw the mass and error label\n",
    "    label = TLatex(0.65, 0.8, \"m_{{J/#psi}} = {0:.2f} #pm {1:.2f}\".format(mass, hwhm))\n",
    "    label.SetNDC()\n",
    "    label.Draw()\n",
    "    \n",
    "    return canvas"
   ]
  },
  {
   "cell_type": "code",
   "execution_count": 143,
   "metadata": {
    "collapsed": false,
    "slideshow": {
     "slide_type": "slide"
    }
   },
   "outputs": [
    {
     "data": {
      "image/png": "[encoded data removed]",
      "text/plain": [
       "Canvas('Canvas_BADsyYaGm3yFE2z4RbjpkN')"
      ]
     },
     "execution_count": 143,
     "metadata": {},
     "output_type": "execute_result"
    }
   ],
   "source": [
    "fit(mass_hist_zoomed)"
   ]
  },
  {
   "cell_type": "markdown",
   "metadata": {
    "slideshow": {
     "slide_type": "skip"
    }
   },
   "source": [
    "* These events were extracted from the CMS Mu Primary Dataset on the CERN Open Data Portal: http://opendata.cern.ch/record/14. \n",
    "* Thanks to http://openstack.cern.ch for providing a CernVM running SL5 where I could set up CMSSW 4.2.8 and to https://github.com/tpmccauley/dimuon-filter for generating the CSV from CMS AODs."
   ]
  }
 ],
 "metadata": {
  "celltoolbar": "Slideshow",
  "kernelspec": {
   "display_name": "Python 2",
   "language": "python",
   "name": "python2"
  },
  "language_info": {
   "codemirror_mode": {
    "name": "ipython",
    "version": 2
   },
   "file_extension": ".py",
   "mimetype": "text/x-python",
   "name": "python",
   "nbconvert_exporter": "python",
   "pygments_lexer": "ipython2",
   "version": "2.7.9"
  }
 },
 "nbformat": 4,
 "nbformat_minor": 0
}
